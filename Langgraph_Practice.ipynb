{
  "nbformat": 4,
  "nbformat_minor": 0,
  "metadata": {
    "colab": {
      "provenance": [],
      "authorship_tag": "ABX9TyNjULVESz5CYFMDCv9pi04L",
      "include_colab_link": true
    },
    "kernelspec": {
      "name": "python3",
      "display_name": "Python 3"
    },
    "language_info": {
      "name": "python"
    }
  },
  "cells": [
    {
      "cell_type": "markdown",
      "metadata": {
        "id": "view-in-github",
        "colab_type": "text"
      },
      "source": [
        "<a href=\"https://colab.research.google.com/github/chayan141/Langgraph-Projects/blob/main/Langgraph_Practice.ipynb\" target=\"_parent\"><img src=\"https://colab.research.google.com/assets/colab-badge.svg\" alt=\"Open In Colab\"/></a>"
      ]
    },
    {
      "cell_type": "code",
      "execution_count": 1,
      "metadata": {
        "colab": {
          "base_uri": "https://localhost:8080/"
        },
        "id": "5qFXIDxr79Yw",
        "outputId": "a9129c85-1c03-4b76-9be6-c724d94cb38b"
      },
      "outputs": [
        {
          "output_type": "stream",
          "name": "stdout",
          "text": [
            "\u001b[2K     \u001b[90m━━━━━━━━━━━━━━━━━━━━━━━━━━━━━━━━━━━━━━━━\u001b[0m \u001b[32m43.7/43.7 kB\u001b[0m \u001b[31m1.7 MB/s\u001b[0m eta \u001b[36m0:00:00\u001b[0m\n",
            "\u001b[2K   \u001b[90m━━━━━━━━━━━━━━━━━━━━━━━━━━━━━━━━━━━━━━━━\u001b[0m \u001b[32m143.7/143.7 kB\u001b[0m \u001b[31m3.8 MB/s\u001b[0m eta \u001b[36m0:00:00\u001b[0m\n",
            "\u001b[2K   \u001b[90m━━━━━━━━━━━━━━━━━━━━━━━━━━━━━━━━━━━━━━━━\u001b[0m \u001b[32m70.4/70.4 kB\u001b[0m \u001b[31m5.1 MB/s\u001b[0m eta \u001b[36m0:00:00\u001b[0m\n",
            "\u001b[2K   \u001b[90m━━━━━━━━━━━━━━━━━━━━━━━━━━━━━━━━━━━━━━━━\u001b[0m \u001b[32m441.4/441.4 kB\u001b[0m \u001b[31m15.5 MB/s\u001b[0m eta \u001b[36m0:00:00\u001b[0m\n",
            "\u001b[2K   \u001b[90m━━━━━━━━━━━━━━━━━━━━━━━━━━━━━━━━━━━━━━━━\u001b[0m \u001b[32m47.4/47.4 kB\u001b[0m \u001b[31m3.5 MB/s\u001b[0m eta \u001b[36m0:00:00\u001b[0m\n",
            "\u001b[2K   \u001b[90m━━━━━━━━━━━━━━━━━━━━━━━━━━━━━━━━━━━━━━━━\u001b[0m \u001b[32m50.1/50.1 kB\u001b[0m \u001b[31m3.8 MB/s\u001b[0m eta \u001b[36m0:00:00\u001b[0m\n",
            "\u001b[2K   \u001b[90m━━━━━━━━━━━━━━━━━━━━━━━━━━━━━━━━━━━━━━━━\u001b[0m \u001b[32m1.4/1.4 MB\u001b[0m \u001b[31m44.4 MB/s\u001b[0m eta \u001b[36m0:00:00\u001b[0m\n",
            "\u001b[2K   \u001b[90m━━━━━━━━━━━━━━━━━━━━━━━━━━━━━━━━━━━━━━━━\u001b[0m \u001b[32m43.8/43.8 kB\u001b[0m \u001b[31m3.0 MB/s\u001b[0m eta \u001b[36m0:00:00\u001b[0m\n",
            "\u001b[2K   \u001b[90m━━━━━━━━━━━━━━━━━━━━━━━━━━━━━━━━━━━━━━━━\u001b[0m \u001b[32m216.5/216.5 kB\u001b[0m \u001b[31m16.9 MB/s\u001b[0m eta \u001b[36m0:00:00\u001b[0m\n",
            "\u001b[?25h\u001b[31mERROR: pip's dependency resolver does not currently take into account all the packages that are installed. This behaviour is the source of the following dependency conflicts.\n",
            "google-generativeai 0.8.5 requires google-ai-generativelanguage==0.6.15, but you have google-ai-generativelanguage 0.6.18 which is incompatible.\u001b[0m\u001b[31m\n",
            "\u001b[0m"
          ]
        }
      ],
      "source": [
        "%pip install -U langgraph langchain_openai langchain_core langchain_google_genai langgraph_sdk --quiet"
      ]
    },
    {
      "cell_type": "code",
      "source": [
        "!pip install -U langchain-google-genai --quiet"
      ],
      "metadata": {
        "id": "iXTVWdCt8Fbn"
      },
      "execution_count": 2,
      "outputs": []
    },
    {
      "cell_type": "code",
      "source": [
        "from google.colab import userdata\n",
        "gemini = userdata.get('gemini_api_key')\n",
        "import os\n",
        "os.environ['gemini_api_key'] = gemini"
      ],
      "metadata": {
        "id": "JSlANpcW8I3O"
      },
      "execution_count": 3,
      "outputs": []
    },
    {
      "cell_type": "code",
      "source": [
        "from langchain_core.prompts import ChatPromptTemplate, MessagesPlaceholder\n",
        "from langchain_google_genai import ChatGoogleGenerativeAI\n",
        "\n",
        "model = ChatGoogleGenerativeAI(model='gemini-2.0-flash',api_key=gemini)"
      ],
      "metadata": {
        "id": "IA5AJf0W8Kbm"
      },
      "execution_count": 4,
      "outputs": []
    },
    {
      "cell_type": "markdown",
      "source": [
        "# Human in the Loop"
      ],
      "metadata": {
        "id": "VOULCVUW8Rsp"
      }
    },
    {
      "cell_type": "code",
      "source": [
        "from typing import TypedDict\n",
        "import uuid\n",
        "\n",
        "from langgraph.checkpoint.memory import InMemorySaver\n",
        "from langgraph.constants import START\n",
        "from langgraph.graph import StateGraph\n",
        "from langgraph.types import interrupt, Command"
      ],
      "metadata": {
        "id": "rc6eTSOh8OVT"
      },
      "execution_count": 5,
      "outputs": []
    },
    {
      "cell_type": "code",
      "source": [
        "class State(TypedDict):\n",
        "  some_text: str"
      ],
      "metadata": {
        "id": "ExamS-TC8WT5"
      },
      "execution_count": 6,
      "outputs": []
    },
    {
      "cell_type": "code",
      "source": [
        "def human_node(state: State):\n",
        "  value = interrupt(\n",
        "      {\n",
        "          'text_to_revise':state['some_text']\n",
        "      }\n",
        "  )\n",
        "  return{\n",
        "      'some_text':value\n",
        "  }"
      ],
      "metadata": {
        "id": "QtEQvWz98bUf"
      },
      "execution_count": 7,
      "outputs": []
    },
    {
      "cell_type": "code",
      "source": [
        "graph_builder = StateGraph(State)\n",
        "graph_builder.add_node(\"human_node\", human_node)\n",
        "graph_builder.add_edge(START, \"human_node\")"
      ],
      "metadata": {
        "colab": {
          "base_uri": "https://localhost:8080/"
        },
        "id": "a7Oiuo0I8sl1",
        "outputId": "f50a7749-85ab-49ed-ff8c-f9193e75c6b9"
      },
      "execution_count": 8,
      "outputs": [
        {
          "output_type": "execute_result",
          "data": {
            "text/plain": [
              "<langgraph.graph.state.StateGraph at 0x7f7cfadc2010>"
            ]
          },
          "metadata": {},
          "execution_count": 8
        }
      ]
    },
    {
      "cell_type": "code",
      "source": [
        "checkpointer = InMemorySaver()\n",
        "graph = graph_builder.compile(checkpointer=checkpointer)\n",
        "\n",
        "config = {'configurable':{'thread_id':uuid.uuid4()}}\n",
        "result = graph.invoke({'some_text':'original text'}, config=config)\n",
        "print(result['__interrupt__'])"
      ],
      "metadata": {
        "colab": {
          "base_uri": "https://localhost:8080/"
        },
        "id": "oWkIxgvO9Gai",
        "outputId": "14eb5d58-9750-4308-8e10-72448b930be0"
      },
      "execution_count": 9,
      "outputs": [
        {
          "output_type": "stream",
          "name": "stdout",
          "text": [
            "[Interrupt(value={'text_to_revise': 'original text'}, resumable=True, ns=['human_node:c42fd85c-350c-f054-06dd-36b2a1fea1df'])]\n"
          ]
        }
      ]
    },
    {
      "cell_type": "code",
      "source": [
        "print(graph.invoke(Command(resume=\"Edited Text\"),config = config))"
      ],
      "metadata": {
        "colab": {
          "base_uri": "https://localhost:8080/"
        },
        "id": "EarzLb5A9uI9",
        "outputId": "afb9722e-a0a1-492e-de50-1bd6fdc48143"
      },
      "execution_count": 10,
      "outputs": [
        {
          "output_type": "stream",
          "name": "stdout",
          "text": [
            "{'some_text': 'Edited Text'}\n"
          ]
        }
      ]
    },
    {
      "cell_type": "code",
      "source": [
        "graph.get_state(config)"
      ],
      "metadata": {
        "colab": {
          "base_uri": "https://localhost:8080/"
        },
        "id": "ndFD_9h3-GIQ",
        "outputId": "2820e6e2-ecb2-4677-ac0b-ccf7af0c9a35"
      },
      "execution_count": 16,
      "outputs": [
        {
          "output_type": "execute_result",
          "data": {
            "text/plain": [
              "StateSnapshot(values={'some_text': 'Edited Text'}, next=(), config={'configurable': {'thread_id': 'd5fdf99f-c501-4bef-98bb-86be2f24d71e', 'checkpoint_ns': '', 'checkpoint_id': '1f05ba76-a328-6529-8001-a18a4c00cd42'}}, metadata={'source': 'loop', 'step': 1, 'parents': {}, 'thread_id': 'd5fdf99f-c501-4bef-98bb-86be2f24d71e'}, created_at='2025-07-08T02:58:24.784692+00:00', parent_config={'configurable': {'thread_id': 'd5fdf99f-c501-4bef-98bb-86be2f24d71e', 'checkpoint_ns': '', 'checkpoint_id': '1f05ba72-f9fa-6d0d-8000-760fa0b40886'}}, tasks=(), interrupts=())"
            ]
          },
          "metadata": {},
          "execution_count": 16
        }
      ]
    },
    {
      "cell_type": "markdown",
      "source": [
        "# Tool Intervention"
      ],
      "metadata": {
        "id": "rRrM_bIlGN2h"
      }
    },
    {
      "cell_type": "code",
      "source": [
        "from typing import TypedDict\n",
        "import uuid\n",
        "\n",
        "from langgraph.constants import START, END\n",
        "from langgraph.graph import StateGraph\n",
        "from langgraph.types import interrupt, Command\n",
        "from langgraph.checkpoint.memory import MemorySaver\n"
      ],
      "metadata": {
        "id": "hx376VLi-jDi"
      },
      "execution_count": 17,
      "outputs": []
    },
    {
      "cell_type": "code",
      "source": [
        "# Define graph state\n",
        "class State(TypedDict):\n",
        "    age: int"
      ],
      "metadata": {
        "id": "V02_QtC4GZo5"
      },
      "execution_count": 18,
      "outputs": []
    },
    {
      "cell_type": "code",
      "source": [
        "# Node that asks for human input and validates it\n",
        "def get_valid_age(state:State) -> State:\n",
        "\n",
        "  prompt = \"Please enter your age (must be a non negative integer)\"\n",
        "\n",
        "  while True:\n",
        "\n",
        "    user_input = interrupt(prompt)\n",
        "\n",
        "    try:\n",
        "\n",
        "      age = int(user_input)\n",
        "      if age < 0:\n",
        "        raise ValueError(\"Age must be non-negative\")\n",
        "      break\n",
        "\n",
        "    except ValueError:\n",
        "      print(f\"{user_input} Invalid input. Please try again.\")\n",
        "\n",
        "  return {'age':age}"
      ],
      "metadata": {
        "id": "ZzTLOhHdG5Rs"
      },
      "execution_count": 19,
      "outputs": []
    },
    {
      "cell_type": "code",
      "source": [
        "# Node that uses the valid input\n",
        "def report_age(state: State) -> State:\n",
        "    print(f\"✅ Human is {state['age']} years old.\")\n",
        "    return state"
      ],
      "metadata": {
        "id": "IT9x4VTpHnQI"
      },
      "execution_count": 20,
      "outputs": []
    },
    {
      "cell_type": "code",
      "source": [
        "# Build the graph\n",
        "builder = StateGraph(State)\n",
        "builder.add_node(\"get_valid_age\", get_valid_age)\n",
        "builder.add_node(\"report_age\", report_age)\n",
        "\n",
        "builder.set_entry_point(\"get_valid_age\")\n",
        "builder.add_edge(\"get_valid_age\", \"report_age\")\n",
        "builder.add_edge(\"report_age\", END)\n",
        "\n",
        "# Create the graph with a memory checkpointer\n",
        "checkpointer = MemorySaver()\n",
        "graph = builder.compile(checkpointer=checkpointer)"
      ],
      "metadata": {
        "id": "S_YizuqIHuCn"
      },
      "execution_count": 21,
      "outputs": []
    },
    {
      "cell_type": "code",
      "source": [
        "# Run the graph until the first interrupt\n",
        "config = {\"configurable\": {\"thread_id\": uuid.uuid4()}}\n",
        "result = graph.invoke({}, config=config)\n",
        "print(result[\"__interrupt__\"])  # First prompt: \"Please enter your age...\""
      ],
      "metadata": {
        "colab": {
          "base_uri": "https://localhost:8080/"
        },
        "id": "ohItzaf1Hygs",
        "outputId": "6017d00d-187b-4f7b-9662-97a86607516e"
      },
      "execution_count": 22,
      "outputs": [
        {
          "output_type": "stream",
          "name": "stdout",
          "text": [
            "[Interrupt(value='Please enter your age (must be a non negative integer)', resumable=True, ns=['get_valid_age:1f41c693-50ab-868b-8a8e-7d9d5cbaa86d'])]\n"
          ]
        }
      ]
    },
    {
      "cell_type": "code",
      "source": [
        "# Simulate an invalid input (e.g., string instead of integer)\n",
        "result = graph.invoke(Command(resume=\"not a number\"), config=config)\n",
        "print(result[\"__interrupt__\"])  # Follow-up prompt with validation message"
      ],
      "metadata": {
        "colab": {
          "base_uri": "https://localhost:8080/"
        },
        "id": "PeI5fg-HH15j",
        "outputId": "00a99019-3240-4edc-c80a-bbf12edf88c5"
      },
      "execution_count": 23,
      "outputs": [
        {
          "output_type": "stream",
          "name": "stdout",
          "text": [
            "not a number Invalid input. Please try again.\n",
            "[Interrupt(value='Please enter your age (must be a non negative integer)', resumable=True, ns=['get_valid_age:1f41c693-50ab-868b-8a8e-7d9d5cbaa86d'])]\n"
          ]
        }
      ]
    },
    {
      "cell_type": "code",
      "source": [
        "# Simulate a second invalid input (e.g., negative number)\n",
        "result = graph.invoke(Command(resume=\"-10\"), config=config)\n",
        "print(result[\"__interrupt__\"])  # Another retry"
      ],
      "metadata": {
        "colab": {
          "base_uri": "https://localhost:8080/"
        },
        "id": "1ewAhjNbH7SE",
        "outputId": "7c3c197c-410c-4f07-f2a7-9a9f4a0d3a85"
      },
      "execution_count": 24,
      "outputs": [
        {
          "output_type": "stream",
          "name": "stdout",
          "text": [
            "not a number Invalid input. Please try again.\n",
            "-10 Invalid input. Please try again.\n",
            "[Interrupt(value='Please enter your age (must be a non negative integer)', resumable=True, ns=['get_valid_age:1f41c693-50ab-868b-8a8e-7d9d5cbaa86d'])]\n"
          ]
        }
      ]
    },
    {
      "cell_type": "code",
      "source": [
        "# Provide valid input\n",
        "final_result = graph.invoke(Command(resume=\"25\"), config=config)\n",
        "print(final_result)  # Should include the valid age"
      ],
      "metadata": {
        "colab": {
          "base_uri": "https://localhost:8080/"
        },
        "id": "plSQ2S1PH-3j",
        "outputId": "42903a1e-d608-498b-d007-719da83a38a9"
      },
      "execution_count": 25,
      "outputs": [
        {
          "output_type": "stream",
          "name": "stdout",
          "text": [
            "not a number Invalid input. Please try again.\n",
            "-10 Invalid input. Please try again.\n",
            "✅ Human is 25 years old.\n",
            "{'age': 25}\n"
          ]
        }
      ]
    },
    {
      "cell_type": "markdown",
      "source": [
        "Static Breakpoints : Setting breakpoints at compine tie or run time.\n",
        "\n",
        "Dynamic Breakpoint: Inside a node using NodeInterrupt."
      ],
      "metadata": {
        "id": "41QyPJPlIg8d"
      }
    },
    {
      "cell_type": "markdown",
      "source": [
        "# Static Breakpoint"
      ],
      "metadata": {
        "id": "O5t89tbeJliD"
      }
    },
    {
      "cell_type": "code",
      "source": [
        "from IPython.display import Image, display\n",
        "from typing_extensions import TypedDict\n",
        "\n",
        "from langgraph.checkpoint.memory import InMemorySaver\n",
        "from langgraph.graph import StateGraph, START, END"
      ],
      "metadata": {
        "id": "LWfdVV_bIA3B"
      },
      "execution_count": 26,
      "outputs": []
    },
    {
      "cell_type": "code",
      "source": [
        "class State(TypedDict):\n",
        "    input: str\n",
        "\n",
        "\n",
        "def step_1(state):\n",
        "    print(\"---Step 1---\")\n",
        "    pass\n",
        "\n",
        "\n",
        "def step_2(state):\n",
        "    print(\"---Step 2---\")\n",
        "    pass\n",
        "\n",
        "\n",
        "def step_3(state):\n",
        "    print(\"---Step 3---\")\n",
        "    pass"
      ],
      "metadata": {
        "id": "hbqLZkn7Jqxl"
      },
      "execution_count": 27,
      "outputs": []
    },
    {
      "cell_type": "code",
      "source": [
        "builder = StateGraph(State)\n",
        "builder.add_node(\"step_1\", step_1)\n",
        "builder.add_node(\"step_2\", step_2)\n",
        "builder.add_node(\"step_3\", step_3)\n",
        "builder.add_edge(START, \"step_1\")\n",
        "builder.add_edge(\"step_1\", \"step_2\")\n",
        "builder.add_edge(\"step_2\", \"step_3\")\n",
        "builder.add_edge(\"step_3\", END)"
      ],
      "metadata": {
        "colab": {
          "base_uri": "https://localhost:8080/"
        },
        "id": "xH5ZOxSXJvv-",
        "outputId": "78e77ea5-2009-49d3-a5ef-bc5029385402"
      },
      "execution_count": 28,
      "outputs": [
        {
          "output_type": "execute_result",
          "data": {
            "text/plain": [
              "<langgraph.graph.state.StateGraph at 0x7f7cfa114ad0>"
            ]
          },
          "metadata": {},
          "execution_count": 28
        }
      ]
    },
    {
      "cell_type": "code",
      "source": [
        "# Set up a checkpointer\n",
        "checkpointer = InMemorySaver() # (1)!\n",
        "\n",
        "graph = builder.compile(\n",
        "    checkpointer=checkpointer, # (2)!\n",
        "    interrupt_before=[\"step_3\"] # (3)!\n",
        ")"
      ],
      "metadata": {
        "id": "VJzrqdn_JyCU"
      },
      "execution_count": 29,
      "outputs": []
    },
    {
      "cell_type": "code",
      "source": [
        "# View\n",
        "display(Image(graph.get_graph().draw_mermaid_png()))"
      ],
      "metadata": {
        "colab": {
          "base_uri": "https://localhost:8080/",
          "height": 491
        },
        "id": "n3_VlP65KTaT",
        "outputId": "77c26c7c-6d2d-4a79-8818-b74d37c4e8a1"
      },
      "execution_count": 30,
      "outputs": [
        {
          "output_type": "display_data",
          "data": {
            "image/png": "[encoded data removed]",
            "text/plain": [
              "<IPython.core.display.Image object>"
            ]
          },
          "metadata": {}
        }
      ]
    },
    {
      "cell_type": "code",
      "source": [
        "# Input\n",
        "initial_input = {\"input\": \"hello world\"}\n",
        "\n",
        "# Thread\n",
        "thread = {\"configurable\": {\"thread_id\": \"1\"}}\n",
        "\n",
        "# Run the graph until the first interruption\n",
        "for event in graph.stream(initial_input, thread, stream_mode=\"values\"):\n",
        "    print(event)"
      ],
      "metadata": {
        "colab": {
          "base_uri": "https://localhost:8080/"
        },
        "id": "B74-LQh4KVh7",
        "outputId": "7862d1a5-48ad-4a1c-e92d-62c3fc2b1adf"
      },
      "execution_count": 31,
      "outputs": [
        {
          "output_type": "stream",
          "name": "stdout",
          "text": [
            "{'input': 'hello world'}\n",
            "---Step 1---\n",
            "---Step 2---\n"
          ]
        }
      ]
    },
    {
      "cell_type": "code",
      "source": [
        "# This will run until the breakpoint\n",
        "# You can get the state of the graph at this point\n",
        "print(graph.get_state(config))"
      ],
      "metadata": {
        "colab": {
          "base_uri": "https://localhost:8080/"
        },
        "id": "yzKuLgKCKZlj",
        "outputId": "abbe4343-7673-4e5e-f7a7-ebab27f3dc6d"
      },
      "execution_count": 32,
      "outputs": [
        {
          "output_type": "stream",
          "name": "stdout",
          "text": [
            "StateSnapshot(values={}, next=(), config={'configurable': {'thread_id': 'f5c0df47-8f30-4f74-8fea-8eaec5e33cf4'}}, metadata=None, created_at=None, parent_config=None, tasks=(), interrupts=())\n"
          ]
        }
      ]
    },
    {
      "cell_type": "code",
      "source": [
        "# You can continue the graph execution by passing in `None` for the input\n",
        "for event in graph.stream(None, thread, stream_mode=\"values\"):\n",
        "    print(event)"
      ],
      "metadata": {
        "colab": {
          "base_uri": "https://localhost:8080/"
        },
        "id": "FPkH-2GrKdi0",
        "outputId": "0b5a7c43-8e9b-4718-ccec-128289f9e2cd"
      },
      "execution_count": 33,
      "outputs": [
        {
          "output_type": "stream",
          "name": "stdout",
          "text": [
            "{'input': 'hello world'}\n",
            "---Step 3---\n"
          ]
        }
      ]
    },
    {
      "cell_type": "markdown",
      "source": [
        "# Dynamic Breakpoint"
      ],
      "metadata": {
        "id": "HfSu5bBcKkBW"
      }
    },
    {
      "cell_type": "code",
      "source": [
        "from typing_extensions import TypedDict\n",
        "from IPython.display import Image, display\n",
        "\n",
        "from langgraph.graph import StateGraph, START, END\n",
        "from langgraph.checkpoint.memory import MemorySaver\n",
        "from langgraph.errors import NodeInterrupt\n"
      ],
      "metadata": {
        "id": "2Trssc-EKf8m"
      },
      "execution_count": 37,
      "outputs": []
    },
    {
      "cell_type": "code",
      "source": [
        "class State(TypedDict):\n",
        "    input: str"
      ],
      "metadata": {
        "id": "vukns-RZKzXz"
      },
      "execution_count": 38,
      "outputs": []
    },
    {
      "cell_type": "code",
      "source": [
        "def step_1(state: State) -> State:\n",
        "    print(\"---Step 1---\")\n",
        "    return state"
      ],
      "metadata": {
        "id": "si4fnKa_K1L9"
      },
      "execution_count": 39,
      "outputs": []
    },
    {
      "cell_type": "code",
      "source": [
        "def step_2(state: State) -> State:\n",
        "    # Let's optionally raise a NodeInterrupt\n",
        "    # if the length of the input is longer than 5 characters\n",
        "    if len(state[\"input\"]) > 5:\n",
        "        raise NodeInterrupt(\n",
        "            f\"Received input that is longer than 5 characters: {state['input']}\"\n",
        "        )\n",
        "    print(\"---Step 2---\")\n",
        "    return state"
      ],
      "metadata": {
        "id": "p9IdBdlTK6X7"
      },
      "execution_count": 40,
      "outputs": []
    },
    {
      "cell_type": "code",
      "source": [
        "def step_3(state: State) -> State:\n",
        "    print(\"---Step 3---\")\n",
        "    return state"
      ],
      "metadata": {
        "id": "Q8IC8lVLLN-9"
      },
      "execution_count": 41,
      "outputs": []
    },
    {
      "cell_type": "code",
      "source": [
        "builder = StateGraph(State)\n",
        "builder.add_node(\"step_1\", step_1)\n",
        "builder.add_node(\"step_2\", step_2)\n",
        "builder.add_node(\"step_3\", step_3)\n",
        "builder.add_edge(START, \"step_1\")\n",
        "builder.add_edge(\"step_1\", \"step_2\")\n",
        "builder.add_edge(\"step_2\", \"step_3\")\n",
        "builder.add_edge(\"step_3\", END)"
      ],
      "metadata": {
        "colab": {
          "base_uri": "https://localhost:8080/"
        },
        "id": "KBsIz4oeLQ-v",
        "outputId": "42eb9a8d-833c-4ce3-a74a-a1efcd2439e2"
      },
      "execution_count": 42,
      "outputs": [
        {
          "output_type": "execute_result",
          "data": {
            "text/plain": [
              "<langgraph.graph.state.StateGraph at 0x7f7cfabb9cd0>"
            ]
          },
          "metadata": {},
          "execution_count": 42
        }
      ]
    },
    {
      "cell_type": "code",
      "source": [
        "# Set up memory\n",
        "memory = MemorySaver()\n",
        "\n",
        "# Compile the graph with memory\n",
        "graph = builder.compile(checkpointer=memory)\n",
        "\n",
        "# View\n",
        "display(Image(graph.get_graph().draw_mermaid_png()))"
      ],
      "metadata": {
        "colab": {
          "base_uri": "https://localhost:8080/",
          "height": 449
        },
        "id": "wF4x1vnILU1y",
        "outputId": "83937ce4-6254-487c-fb94-f8a149681e5f"
      },
      "execution_count": 43,
      "outputs": [
        {
          "output_type": "display_data",
          "data": {
            "image/png": "[encoded data removed]",
            "text/plain": [
              "<IPython.core.display.Image object>"
            ]
          },
          "metadata": {}
        }
      ]
    },
    {
      "cell_type": "code",
      "source": [
        "initial_input = {\"input\": \"helloworld\"}\n",
        "thread_config = {\"configurable\": {\"thread_id\": \"1\"}}\n",
        "\n",
        "for event in graph.stream(initial_input, thread_config, stream_mode=\"values\"):\n",
        "    print(event)"
      ],
      "metadata": {
        "colab": {
          "base_uri": "https://localhost:8080/"
        },
        "id": "vnyzxUn1LW5N",
        "outputId": "30fe480e-91b9-4a20-ab21-2accc55f1380"
      },
      "execution_count": 46,
      "outputs": [
        {
          "output_type": "stream",
          "name": "stdout",
          "text": [
            "{'input': 'helloworld'}\n",
            "---Step 1---\n",
            "{'input': 'helloworld'}\n"
          ]
        }
      ]
    },
    {
      "cell_type": "code",
      "source": [
        "state = graph.get_state(thread_config)\n",
        "print(state.next)\n",
        "print(state.tasks)"
      ],
      "metadata": {
        "colab": {
          "base_uri": "https://localhost:8080/"
        },
        "id": "TiGSiEsbLaCL",
        "outputId": "cd8ae515-1e65-4c2c-c63e-78ea83b4bcee"
      },
      "execution_count": 47,
      "outputs": [
        {
          "output_type": "stream",
          "name": "stdout",
          "text": [
            "('step_2',)\n",
            "(PregelTask(id='f74194aa-efd9-ace5-063f-44cb860c5f4a', name='step_2', path=('__pregel_pull', 'step_2'), error=None, interrupts=(Interrupt(value='Received input that is longer than 5 characters: helloworld', resumable=False, ns=None),), state=None, result=None),)\n"
          ]
        }
      ]
    },
    {
      "cell_type": "code",
      "source": [
        "# NOTE: to resume the graph from a dynamic interrupt we use the same syntax as with regular interrupts -- we pass None as the input\n",
        "for event in graph.stream(None, thread_config, stream_mode=\"values\"):\n",
        "    print(event)"
      ],
      "metadata": {
        "colab": {
          "base_uri": "https://localhost:8080/"
        },
        "id": "BskhunnOLc26",
        "outputId": "56190248-42d2-42f7-f162-d3f48200ea88"
      },
      "execution_count": 48,
      "outputs": [
        {
          "output_type": "stream",
          "name": "stdout",
          "text": [
            "{'input': 'helloworld'}\n"
          ]
        }
      ]
    },
    {
      "cell_type": "code",
      "source": [
        "state = graph.get_state(thread_config)\n",
        "print(state.next)\n",
        "print(state.tasks)"
      ],
      "metadata": {
        "colab": {
          "base_uri": "https://localhost:8080/"
        },
        "id": "ay4RbeRILpaE",
        "outputId": "51372ee2-6550-4345-9cb2-b536f129c393"
      },
      "execution_count": 49,
      "outputs": [
        {
          "output_type": "stream",
          "name": "stdout",
          "text": [
            "('step_2',)\n",
            "(PregelTask(id='f74194aa-efd9-ace5-063f-44cb860c5f4a', name='step_2', path=('__pregel_pull', 'step_2'), error=None, interrupts=(Interrupt(value='Received input that is longer than 5 characters: helloworld', resumable=False, ns=None),), state=None, result=None),)\n"
          ]
        }
      ]
    },
    {
      "cell_type": "markdown",
      "source": [
        "# Using Breakpoints in Subgraph"
      ],
      "metadata": {
        "id": "FAHmmwD6Lyns"
      }
    },
    {
      "cell_type": "code",
      "source": [
        "from typing_extensions import TypedDict\n",
        "\n",
        "from langgraph.graph import START, StateGraph\n",
        "from langgraph.checkpoint.memory import InMemorySaver\n",
        "from langgraph.types import interrupt\n",
        "\n",
        "\n",
        "class State(TypedDict):\n",
        "    foo: str\n",
        "\n",
        "\n",
        "def subgraph_node_1(state: State):\n",
        "    return {\"foo\": state[\"foo\"]}"
      ],
      "metadata": {
        "id": "jYrlXHbXLtje"
      },
      "execution_count": 50,
      "outputs": []
    },
    {
      "cell_type": "code",
      "source": [
        "subgraph_builder = StateGraph(State)\n",
        "subgraph_builder.add_node(subgraph_node_1)\n",
        "subgraph_builder.add_edge(START, \"subgraph_node_1\")\n",
        "subgraph = subgraph_builder.compile(interrupt_before=[\"subgraph_node_1\"])"
      ],
      "metadata": {
        "id": "qCe-gHxGL5Wb"
      },
      "execution_count": 51,
      "outputs": []
    },
    {
      "cell_type": "code",
      "source": [
        "builder = StateGraph(State)\n",
        "builder.add_node(\"node_1\", subgraph)  # directly include subgraph as a node\n",
        "builder.add_edge(START, \"node_1\")"
      ],
      "metadata": {
        "colab": {
          "base_uri": "https://localhost:8080/"
        },
        "id": "a1Mh6lPmMI5W",
        "outputId": "4701ea70-0c36-4fb0-c030-9a98dffbfd7e"
      },
      "execution_count": 52,
      "outputs": [
        {
          "output_type": "execute_result",
          "data": {
            "text/plain": [
              "<langgraph.graph.state.StateGraph at 0x7f7cfaabba90>"
            ]
          },
          "metadata": {},
          "execution_count": 52
        }
      ]
    },
    {
      "cell_type": "code",
      "source": [
        "checkpointer = InMemorySaver()\n",
        "graph = builder.compile(checkpointer=checkpointer)"
      ],
      "metadata": {
        "id": "fDd66H9LMNr-"
      },
      "execution_count": 53,
      "outputs": []
    },
    {
      "cell_type": "code",
      "source": [
        "config = {\"configurable\": {\"thread_id\": \"1\"}}\n",
        "\n",
        "graph.invoke({\"foo\": \"\"}, config)\n",
        "\n",
        "# Fetch state including subgraph state.\n",
        "print(graph.get_state(config, subgraphs=True).tasks[0].state)\n",
        "\n",
        "# resume the subgraph\n",
        "graph.invoke(None, config)"
      ],
      "metadata": {
        "colab": {
          "base_uri": "https://localhost:8080/"
        },
        "id": "tCHMz8OrMQpC",
        "outputId": "882cd6fe-e314-4ca4-f910-f41c13b1373a"
      },
      "execution_count": 54,
      "outputs": [
        {
          "output_type": "stream",
          "name": "stdout",
          "text": [
            "StateSnapshot(values={'foo': ''}, next=('subgraph_node_1',), config={'configurable': {'thread_id': '1', 'checkpoint_ns': 'node_1:b34455ab-1abb-ab5d-d480-690a96ddf960', 'checkpoint_id': '1f05bb02-2178-6943-8000-5b857294c56a', 'checkpoint_map': {'': '1f05bb02-216e-6a1f-8000-52bec94b95a9', 'node_1:b34455ab-1abb-ab5d-d480-690a96ddf960': '1f05bb02-2178-6943-8000-5b857294c56a'}}}, metadata={'source': 'loop', 'step': 0, 'parents': {'': '1f05bb02-216e-6a1f-8000-52bec94b95a9'}, 'thread_id': '1', 'langgraph_step': 1, 'langgraph_node': 'node_1', 'langgraph_checkpoint_ns': 'node_1:b34455ab-1abb-ab5d-d480-690a96ddf960'}, created_at='2025-07-08T04:00:49.282471+00:00', parent_config={'configurable': {'thread_id': '1', 'checkpoint_ns': 'node_1:b34455ab-1abb-ab5d-d480-690a96ddf960', 'checkpoint_id': '1f05bb02-2171-6482-bfff-896a1dfe58ce', 'checkpoint_map': {'': '1f05bb02-216e-6a1f-8000-52bec94b95a9', 'node_1:b34455ab-1abb-ab5d-d480-690a96ddf960': '1f05bb02-2171-6482-bfff-896a1dfe58ce'}}}, tasks=(PregelTask(id='921da41c-84d8-82ad-877d-2d167bbd3622', name='subgraph_node_1', path=('__pregel_pull', 'subgraph_node_1'), error=None, interrupts=(), state=None, result=None),), interrupts=())\n"
          ]
        },
        {
          "output_type": "execute_result",
          "data": {
            "text/plain": [
              "{'foo': ''}"
            ]
          },
          "metadata": {},
          "execution_count": 54
        }
      ]
    },
    {
      "cell_type": "code",
      "source": [
        "display(Image(graph.get_graph().draw_mermaid_png()))"
      ],
      "metadata": {
        "colab": {
          "base_uri": "https://localhost:8080/",
          "height": 251
        },
        "id": "-8pQnEZMMYWe",
        "outputId": "88c63d17-83d4-4f58-fdfb-f2eca4d26c54"
      },
      "execution_count": 55,
      "outputs": [
        {
          "output_type": "display_data",
          "data": {
            "image/png": "[encoded data removed]",
            "text/plain": [
              "<IPython.core.display.Image object>"
            ]
          },
          "metadata": {}
        }
      ]
    },
    {
      "cell_type": "markdown",
      "source": [
        "# Time Travel\n"
      ],
      "metadata": {
        "id": "tVL1WKt1MiiE"
      }
    },
    {
      "cell_type": "markdown",
      "source": [
        "Used for - Understand Reasoning (Analyzing Every Steps), Debugging Mistakes: Identify where and why errors occurred, Explore Alternatives: Tests different paths to uncover better solutions."
      ],
      "metadata": {
        "id": "S58ptoiSMrjk"
      }
    },
    {
      "cell_type": "code",
      "source": [
        "import uuid\n",
        "\n",
        "from typing_extensions import TypedDict, NotRequired\n",
        "from langgraph.graph import StateGraph, START, END\n",
        "from langchain.chat_models import init_chat_model\n",
        "from langgraph.checkpoint.memory import InMemorySaver"
      ],
      "metadata": {
        "id": "qookUkhOMaed"
      },
      "execution_count": 56,
      "outputs": []
    },
    {
      "cell_type": "code",
      "source": [
        "class State(TypedDict):\n",
        "    topic: NotRequired[str]\n",
        "    joke: NotRequired[str]"
      ],
      "metadata": {
        "id": "kO8f_2zRNTnm"
      },
      "execution_count": 57,
      "outputs": []
    },
    {
      "cell_type": "code",
      "source": [
        "def generate_topic(state: State):\n",
        "    \"\"\"LLM call to generate a topic for the joke\"\"\"\n",
        "    msg = model.invoke(\"Give me a funny topic for a joke\")\n",
        "    return {\"topic\": msg.content}"
      ],
      "metadata": {
        "id": "itb-dlSbNV7r"
      },
      "execution_count": 58,
      "outputs": []
    },
    {
      "cell_type": "code",
      "source": [
        "def write_joke(state: State):\n",
        "    \"\"\"LLM call to write a joke based on the topic\"\"\"\n",
        "    msg = model.invoke(f\"Write a short joke about {state['topic']}\")\n",
        "    return {\"joke\": msg.content}"
      ],
      "metadata": {
        "id": "QTs-9_UsN38R"
      },
      "execution_count": 59,
      "outputs": []
    },
    {
      "cell_type": "code",
      "source": [
        "# Build workflow\n",
        "workflow = StateGraph(State)\n",
        "\n",
        "# Add nodes\n",
        "workflow.add_node(\"generate_topic\", generate_topic)\n",
        "workflow.add_node(\"write_joke\", write_joke)\n",
        "\n",
        "# Add edges to connect nodes\n",
        "workflow.add_edge(START, \"generate_topic\")\n",
        "workflow.add_edge(\"generate_topic\", \"write_joke\")\n",
        "workflow.add_edge(\"write_joke\", END)\n",
        "\n",
        "# Compile\n",
        "checkpointer = InMemorySaver()\n",
        "graph = workflow.compile(checkpointer=checkpointer)\n",
        "graph"
      ],
      "metadata": {
        "colab": {
          "base_uri": "https://localhost:8080/",
          "height": 350
        },
        "id": "EA63gGISN7wz",
        "outputId": "91f8a970-0f9e-4efc-a0ca-df467e84a2a3"
      },
      "execution_count": 60,
      "outputs": [
        {
          "output_type": "execute_result",
          "data": {
            "text/plain": [
              "<langgraph.graph.state.CompiledStateGraph object at 0x7f7cfac0f7d0>"
            ],
            "image/png": "[encoded data removed]"
          },
          "metadata": {},
          "execution_count": 60
        }
      ]
    },
    {
      "cell_type": "code",
      "source": [
        "config = {\n",
        "    \"configurable\": {\n",
        "        \"thread_id\": uuid.uuid4(),\n",
        "    }\n",
        "}\n",
        "state = graph.invoke({}, config)\n",
        "\n",
        "print(state[\"topic\"])\n",
        "print()\n",
        "print(state[\"joke\"])"
      ],
      "metadata": {
        "colab": {
          "base_uri": "https://localhost:8080/"
        },
        "id": "5C49kXIBN-R7",
        "outputId": "2e3b9905-3184-4184-e369-bf5c0c5f4c61"
      },
      "execution_count": 61,
      "outputs": [
        {
          "output_type": "stream",
          "name": "stdout",
          "text": [
            "Okay, here are a few funny joke topics, leaning into different comedic styles:\n",
            "\n",
            "*   **Awkward Dates:** (Relatable cringe humor)\n",
            "*   **Talking Animals:** (Silly, absurd)\n",
            "*   **AI/Robots Trying to Be Human:** (Topical, slightly satirical)\n",
            "*   **The Differences Between Men and Women (exaggerated):** (Classic, but tread carefully!)\n",
            "*   **Food with Human-like Problems:** (Surreal, quirky)\n",
            "*   **Things that Old People Say:** (Observational, nostalgic)\n",
            "*   **The Struggles of Working From Home:** (Relatable, modern)\n",
            "*   **Bad Puns:** (Self-explanatory!)\n",
            "*   **Overly Enthusiastic Salespeople:** (Annoying but funny)\n",
            "*   **The Absurdity of Everyday Life:** (Existential humor)\n",
            "\n",
            "Pick the one that you think you can write the best joke about! Good luck!\n",
            "\n",
            "I'll go with **AI/Robots Trying to Be Human** for a topical and slightly satirical joke.\n",
            "\n",
            "Why did the robot get fired from the comedy club?\n",
            "\n",
            "Because his jokes were too... *puts on sunglasses*... algorithm-ic. He just couldn't *compute* what was funny! He kept ending every punchline with, \"Does not compute. Please provide human laughter input.\"\n"
          ]
        }
      ]
    },
    {
      "cell_type": "code",
      "source": [
        "# The states are returned in reverse chronological order.\n",
        "states = list(graph.get_state_history(config))\n",
        "\n",
        "for state in states:\n",
        "    print(state.next)\n",
        "    print(state.config[\"configurable\"][\"checkpoint_id\"])\n",
        "    print()"
      ],
      "metadata": {
        "colab": {
          "base_uri": "https://localhost:8080/"
        },
        "id": "VWBEcA3yOAyh",
        "outputId": "d743d707-6bd3-43c5-a07f-70c8ad4a3ca3"
      },
      "execution_count": 62,
      "outputs": [
        {
          "output_type": "stream",
          "name": "stdout",
          "text": [
            "()\n",
            "1f05bb12-3564-6f9f-8002-35728c76d4b2\n",
            "\n",
            "('write_joke',)\n",
            "1f05bb12-2a25-6afe-8001-beba222d33cf\n",
            "\n",
            "('generate_topic',)\n",
            "1f05bb12-1132-68d7-8000-4fdb2c774e55\n",
            "\n",
            "('__start__',)\n",
            "1f05bb12-112e-6ff6-bfff-666062cc2930\n",
            "\n"
          ]
        }
      ]
    },
    {
      "cell_type": "code",
      "source": [
        "# This is the state before last (states are listed in chronological order)\n",
        "selected_state = states[1]\n",
        "print(selected_state.next)\n",
        "print(selected_state.values)"
      ],
      "metadata": {
        "colab": {
          "base_uri": "https://localhost:8080/"
        },
        "id": "xdqbs4NpON2E",
        "outputId": "8302d1f5-f9ed-4d47-c898-c75e444b52b5"
      },
      "execution_count": 69,
      "outputs": [
        {
          "output_type": "stream",
          "name": "stdout",
          "text": [
            "('write_joke',)\n",
            "{'topic': 'Okay, here are a few funny joke topics, leaning into different comedic styles:\\n\\n*   **Awkward Dates:** (Relatable cringe humor)\\n*   **Talking Animals:** (Silly, absurd)\\n*   **AI/Robots Trying to Be Human:** (Topical, slightly satirical)\\n*   **The Differences Between Men and Women (exaggerated):** (Classic, but tread carefully!)\\n*   **Food with Human-like Problems:** (Surreal, quirky)\\n*   **Things that Old People Say:** (Observational, nostalgic)\\n*   **The Struggles of Working From Home:** (Relatable, modern)\\n*   **Bad Puns:** (Self-explanatory!)\\n*   **Overly Enthusiastic Salespeople:** (Annoying but funny)\\n*   **The Absurdity of Everyday Life:** (Existential humor)\\n\\nPick the one that you think you can write the best joke about! Good luck!'}\n"
          ]
        }
      ]
    },
    {
      "cell_type": "code",
      "source": [
        "new_config = graph.update_state(selected_state.config, values={\"topic\": \"chickens\"})\n",
        "print(new_config)"
      ],
      "metadata": {
        "colab": {
          "base_uri": "https://localhost:8080/"
        },
        "id": "1rL44TqoOHm-",
        "outputId": "5387fe1e-8d7c-4410-fbb6-43458edc9f42"
      },
      "execution_count": 70,
      "outputs": [
        {
          "output_type": "stream",
          "name": "stdout",
          "text": [
            "{'configurable': {'thread_id': 'a3f4a176-aef7-4d2f-8f43-f67305ea6097', 'checkpoint_ns': '', 'checkpoint_id': '1f05bb17-6891-693f-8002-3d3d5d411279'}}\n"
          ]
        }
      ]
    },
    {
      "cell_type": "code",
      "source": [
        "graph.invoke(None, new_config)"
      ],
      "metadata": {
        "colab": {
          "base_uri": "https://localhost:8080/"
        },
        "id": "X2nJlP7aOKpe",
        "outputId": "929fbc63-481b-4985-bc0d-9f25a9a6a555"
      },
      "execution_count": 71,
      "outputs": [
        {
          "output_type": "execute_result",
          "data": {
            "text/plain": [
              "{'topic': 'chickens',\n",
              " 'joke': 'Why did the chicken cross the playground?\\n\\nTo get to the other slide!'}"
            ]
          },
          "metadata": {},
          "execution_count": 71
        }
      ]
    },
    {
      "cell_type": "markdown",
      "source": [
        "# RAG Using Langgraph"
      ],
      "metadata": {
        "id": "Uqe5InyBO3IJ"
      }
    },
    {
      "cell_type": "code",
      "source": [
        "!pip install -qU langchain-core"
      ],
      "metadata": {
        "id": "K7CjyJKIRziE"
      },
      "execution_count": 73,
      "outputs": []
    },
    {
      "cell_type": "code",
      "source": [
        "%pip install --quiet --upgrade langchain-text-splitters langchain-community langgraph"
      ],
      "metadata": {
        "colab": {
          "base_uri": "https://localhost:8080/"
        },
        "id": "xdQ6rLyUR4ux",
        "outputId": "5eb0de9f-3d70-4d9f-a2eb-3c1453171658"
      },
      "execution_count": 74,
      "outputs": [
        {
          "output_type": "stream",
          "name": "stdout",
          "text": [
            "\u001b[2K   \u001b[90m━━━━━━━━━━━━━━━━━━━━━━━━━━━━━━━━━━━━━━━━\u001b[0m \u001b[32m2.5/2.5 MB\u001b[0m \u001b[31m28.8 MB/s\u001b[0m eta \u001b[36m0:00:00\u001b[0m\n",
            "\u001b[2K   \u001b[90m━━━━━━━━━━━━━━━━━━━━━━━━━━━━━━━━━━━━━━━━\u001b[0m \u001b[32m45.2/45.2 kB\u001b[0m \u001b[31m3.2 MB/s\u001b[0m eta \u001b[36m0:00:00\u001b[0m\n",
            "\u001b[2K   \u001b[90m━━━━━━━━━━━━━━━━━━━━━━━━━━━━━━━━━━━━━━━━\u001b[0m \u001b[32m50.9/50.9 kB\u001b[0m \u001b[31m3.6 MB/s\u001b[0m eta \u001b[36m0:00:00\u001b[0m\n",
            "\u001b[?25h"
          ]
        }
      ]
    },
    {
      "cell_type": "code",
      "source": [
        "import bs4\n",
        "from langchain import hub\n",
        "from langchain_community.document_loaders import WebBaseLoader\n",
        "from langchain_core.documents import Document\n",
        "from langchain_text_splitters import RecursiveCharacterTextSplitter\n",
        "from langgraph.graph import START, StateGraph\n",
        "from typing_extensions import List, TypedDict"
      ],
      "metadata": {
        "colab": {
          "base_uri": "https://localhost:8080/"
        },
        "id": "tcL1m46uR864",
        "outputId": "7c53d610-b4e3-4547-dfb0-e328a7fe46f9"
      },
      "execution_count": 75,
      "outputs": [
        {
          "output_type": "stream",
          "name": "stderr",
          "text": [
            "WARNING:langchain_community.utils.user_agent:USER_AGENT environment variable not set, consider setting it to identify your requests.\n"
          ]
        }
      ]
    },
    {
      "cell_type": "code",
      "source": [
        "# Load and chunk contents of the blog\n",
        "loader = WebBaseLoader(\n",
        "    web_paths=(\"https://lilianweng.github.io/posts/2023-06-23-agent/\",),\n",
        "    bs_kwargs=dict(\n",
        "        parse_only=bs4.SoupStrainer(\n",
        "            class_=(\"post-content\", \"post-title\", \"post-header\")\n",
        "        )\n",
        "    ),\n",
        ")\n",
        "docs = loader.load()"
      ],
      "metadata": {
        "id": "bYoVAQ-9SC0X"
      },
      "execution_count": 76,
      "outputs": []
    },
    {
      "cell_type": "code",
      "source": [
        "text_splitter = RecursiveCharacterTextSplitter(chunk_size=1000, chunk_overlap=200)\n",
        "all_splits = text_splitter.split_documents(docs)"
      ],
      "metadata": {
        "id": "BLRc_P0oSJrt"
      },
      "execution_count": 77,
      "outputs": []
    },
    {
      "cell_type": "code",
      "source": [
        "from langchain_google_genai import GoogleGenerativeAIEmbeddings\n",
        "\n",
        "embeddings = GoogleGenerativeAIEmbeddings(model=\"models/text-embedding-004\", google_api_key=gemini)\n",
        "vector = embeddings.embed_query(\"hello, world!\")\n",
        "vector[:5]"
      ],
      "metadata": {
        "colab": {
          "base_uri": "https://localhost:8080/"
        },
        "id": "qkCRhdnySgfb",
        "outputId": "241950ac-47a7-4923-ed91-cb82040196e1"
      },
      "execution_count": 78,
      "outputs": [
        {
          "output_type": "execute_result",
          "data": {
            "text/plain": [
              "[0.006846265867352486,\n",
              " -0.02251487784087658,\n",
              " -0.05496913567185402,\n",
              " -0.020021894946694374,\n",
              " -0.010026923380792141]"
            ]
          },
          "metadata": {},
          "execution_count": 78
        }
      ]
    },
    {
      "cell_type": "code",
      "source": [
        "from langchain_core.vectorstores import InMemoryVectorStore\n",
        "\n",
        "vector_store = InMemoryVectorStore(embeddings)"
      ],
      "metadata": {
        "id": "szIAeprxSY-8"
      },
      "execution_count": 79,
      "outputs": []
    },
    {
      "cell_type": "code",
      "source": [
        "# Index chunks\n",
        "_ = vector_store.add_documents(documents=all_splits)\n",
        "\n",
        "# Define prompt for question-answering\n",
        "# N.B. for non-US LangSmith endpoints, you may need to specify\n",
        "# api_url=\"https://api.smith.langchain.com\" in hub.pull.\n",
        "prompt = hub.pull(\"rlm/rag-prompt\")"
      ],
      "metadata": {
        "colab": {
          "base_uri": "https://localhost:8080/"
        },
        "id": "gYFb4HTZSO5n",
        "outputId": "ad3ee830-2d5e-461b-c6ac-627493568625"
      },
      "execution_count": 80,
      "outputs": [
        {
          "output_type": "stream",
          "name": "stderr",
          "text": [
            "/usr/local/lib/python3.11/dist-packages/langsmith/client.py:272: LangSmithMissingAPIKeyWarning: API key must be provided when using hosted LangSmith API\n",
            "  warnings.warn(\n"
          ]
        }
      ]
    },
    {
      "cell_type": "code",
      "source": [
        "# Define state for application\n",
        "class State(TypedDict):\n",
        "    question: str\n",
        "    context: List[Document]\n",
        "    answer: str"
      ],
      "metadata": {
        "id": "ArAxPJ4VSoKe"
      },
      "execution_count": 81,
      "outputs": []
    },
    {
      "cell_type": "code",
      "source": [
        "# Define application steps\n",
        "def retrieve(state: State):\n",
        "    retrieved_docs = vector_store.similarity_search(state[\"question\"])\n",
        "    return {\"context\": retrieved_docs}"
      ],
      "metadata": {
        "id": "yYU-aksxStFH"
      },
      "execution_count": 82,
      "outputs": []
    },
    {
      "cell_type": "code",
      "source": [
        "def generate(state: State):\n",
        "    docs_content = \"\\n\\n\".join(doc.page_content for doc in state[\"context\"])\n",
        "    messages = prompt.invoke({\"question\": state[\"question\"], \"context\": docs_content})\n",
        "    response = model.invoke(messages)\n",
        "    return {\"answer\": response.content}"
      ],
      "metadata": {
        "id": "4ooWDrWpSya8"
      },
      "execution_count": 83,
      "outputs": []
    },
    {
      "cell_type": "code",
      "source": [
        "# Compile application and test\n",
        "graph_builder = StateGraph(State).add_sequence([retrieve, generate]) #adding Node\n",
        "graph_builder.add_edge(START, \"retrieve\")\n",
        "graph = graph_builder.compile()"
      ],
      "metadata": {
        "id": "Sl2ZyBHGS5cU"
      },
      "execution_count": 84,
      "outputs": []
    },
    {
      "cell_type": "code",
      "source": [
        "display(Image(graph.get_graph().draw_mermaid_png()))"
      ],
      "metadata": {
        "colab": {
          "base_uri": "https://localhost:8080/",
          "height": 350
        },
        "id": "NQvDFtPkTLcV",
        "outputId": "23020cd9-9048-4b18-be6f-ba88b3efd4b6"
      },
      "execution_count": 85,
      "outputs": [
        {
          "output_type": "display_data",
          "data": {
            "image/png": "[encoded data removed]",
            "text/plain": [
              "<IPython.core.display.Image object>"
            ]
          },
          "metadata": {}
        }
      ]
    },
    {
      "cell_type": "code",
      "source": [
        "response = graph.invoke({\"question\": \"What is Task Decomposition?\"})\n",
        "print(response[\"answer\"])"
      ],
      "metadata": {
        "colab": {
          "base_uri": "https://localhost:8080/"
        },
        "id": "AouQp2F4TQcU",
        "outputId": "91334f42-0644-425c-b7f8-9b68db9ed7ca"
      },
      "execution_count": 86,
      "outputs": [
        {
          "output_type": "stream",
          "name": "stdout",
          "text": [
            "Task decomposition is a method used to break down complex tasks into smaller, simpler steps. It can be achieved through prompting language models, using task-specific instructions, or with human input. Techniques like Chain of Thought (CoT) and Tree of Thoughts extend this by exploring multiple reasoning paths.\n"
          ]
        }
      ]
    },
    {
      "cell_type": "markdown",
      "source": [
        "# Conversational RAG"
      ],
      "metadata": {
        "id": "RBDRNoA3UyXj"
      }
    },
    {
      "cell_type": "code",
      "source": [
        "import bs4\n",
        "from langchain import hub\n",
        "from langchain_community.document_loaders import WebBaseLoader\n",
        "from langchain_core.documents import Document\n",
        "from langchain_text_splitters import RecursiveCharacterTextSplitter\n",
        "from typing_extensions import List, TypedDict\n",
        "\n",
        "# Load and chunk contents of the blog\n",
        "loader = WebBaseLoader(\n",
        "    web_paths=(\"https://lilianweng.github.io/posts/2023-06-23-agent/\",),\n",
        "    bs_kwargs=dict(\n",
        "        parse_only=bs4.SoupStrainer(\n",
        "            class_=(\"post-content\", \"post-title\", \"post-header\")\n",
        "        )\n",
        "    ),\n",
        ")\n",
        "docs = loader.load()\n",
        "\n",
        "text_splitter = RecursiveCharacterTextSplitter(chunk_size=1000, chunk_overlap=200)\n",
        "all_splits = text_splitter.split_documents(docs)"
      ],
      "metadata": {
        "id": "yTgO4i_LTVSt"
      },
      "execution_count": 87,
      "outputs": []
    },
    {
      "cell_type": "code",
      "source": [
        "# Index chunks\n",
        "_ = vector_store.add_documents(documents=all_splits)"
      ],
      "metadata": {
        "id": "1EIZUfcmU63Y"
      },
      "execution_count": 88,
      "outputs": []
    },
    {
      "cell_type": "markdown",
      "source": [
        "We will have :\n",
        "\n",
        "User input as a HumanMessage;\n",
        "\n",
        "Vector store query as an AIMessage with tool calls;\n",
        "\n",
        "Retrieved documents as a ToolMessage;\n",
        "\n",
        "Final response as a AIMessage."
      ],
      "metadata": {
        "id": "PI2p5JIIVCyr"
      }
    },
    {
      "cell_type": "code",
      "source": [
        "from langgraph.graph import MessagesState, StateGraph\n",
        "\n",
        "graph_builder = StateGraph(MessagesState)"
      ],
      "metadata": {
        "id": "MQi6IWfDU9Uz"
      },
      "execution_count": 89,
      "outputs": []
    },
    {
      "cell_type": "code",
      "source": [
        "from langchain_core.tools import tool\n",
        "\n",
        "\n",
        "@tool(response_format=\"content_and_artifact\")\n",
        "def retrieve(query: str):\n",
        "    \"\"\"Retrieve information related to a query.\"\"\"\n",
        "    retrieved_docs = vector_store.similarity_search(query, k=2)\n",
        "    serialized = \"\\n\\n\".join(\n",
        "        (f\"Source: {doc.metadata}\\n\" f\"Content: {doc.page_content}\")\n",
        "        for doc in retrieved_docs\n",
        "    )\n",
        "    return serialized, retrieved_docs"
      ],
      "metadata": {
        "id": "jUQ5huSWVKpw"
      },
      "execution_count": 90,
      "outputs": []
    },
    {
      "cell_type": "code",
      "source": [
        "from langchain_core.messages import SystemMessage\n",
        "from langgraph.prebuilt import ToolNode"
      ],
      "metadata": {
        "id": "KQF_t9RaVY4a"
      },
      "execution_count": 91,
      "outputs": []
    },
    {
      "cell_type": "code",
      "source": [
        "# Step 1: Generate an AIMessage that may include a tool-call to be sent.\n",
        "def query_or_respond(state: MessagesState):\n",
        "    \"\"\"Generate tool call for retrieval or respond.\"\"\"\n",
        "    llm_with_tools = model.bind_tools([retrieve])\n",
        "    response = llm_with_tools.invoke(state[\"messages\"])\n",
        "    # MessagesState appends messages to state instead of overwriting\n",
        "    return {\"messages\": [response]}"
      ],
      "metadata": {
        "id": "91XlWFyBVbnX"
      },
      "execution_count": 92,
      "outputs": []
    },
    {
      "cell_type": "code",
      "source": [
        "# Step 2: Execute the retrieval.\n",
        "tools = ToolNode([retrieve])"
      ],
      "metadata": {
        "id": "VbW5MqWoVjSD"
      },
      "execution_count": 94,
      "outputs": []
    },
    {
      "cell_type": "code",
      "source": [
        "# Step 3: Generate a response using the retrieved content.\n",
        "def generate(state: MessagesState):\n",
        "    \"\"\"Generate answer.\"\"\"\n",
        "    # Get generated ToolMessages\n",
        "    recent_tool_messages = []\n",
        "    for message in reversed(state[\"messages\"]):\n",
        "        if message.type == \"tool\":\n",
        "            recent_tool_messages.append(message)\n",
        "        else:\n",
        "            break\n",
        "    tool_messages = recent_tool_messages[::-1]\n",
        "\n",
        "    # Format into prompt\n",
        "    docs_content = \"\\n\\n\".join(doc.content for doc in tool_messages)\n",
        "    system_message_content = (\n",
        "        \"You are an assistant for question-answering tasks. \"\n",
        "        \"Use the following pieces of retrieved context to answer \"\n",
        "        \"the question. If you don't know the answer, say that you \"\n",
        "        \"don't know. Use three sentences maximum and keep the \"\n",
        "        \"answer concise.\"\n",
        "        \"\\n\\n\"\n",
        "        f\"{docs_content}\"\n",
        "    )\n",
        "    conversation_messages = [\n",
        "        message\n",
        "        for message in state[\"messages\"]\n",
        "        if message.type in (\"human\", \"system\")\n",
        "        or (message.type == \"ai\" and not message.tool_calls)\n",
        "    ]\n",
        "    prompt = [SystemMessage(system_message_content)] + conversation_messages\n",
        "\n",
        "    # Run\n",
        "    response = model.invoke(prompt)\n",
        "    return {\"messages\": [response]}"
      ],
      "metadata": {
        "id": "FeozqrQ9Vlhp"
      },
      "execution_count": 95,
      "outputs": []
    },
    {
      "cell_type": "code",
      "source": [
        "from langgraph.graph import END\n",
        "from langgraph.prebuilt import ToolNode, tools_condition\n",
        "\n",
        "graph_builder.add_node(query_or_respond)\n",
        "graph_builder.add_node(tools)\n",
        "graph_builder.add_node(generate)\n",
        "\n",
        "graph_builder.set_entry_point(\"query_or_respond\")\n",
        "graph_builder.add_conditional_edges(\n",
        "    \"query_or_respond\",\n",
        "    tools_condition,\n",
        "    {END: END, \"tools\": \"tools\"},\n",
        ")\n",
        "graph_builder.add_edge(\"tools\", \"generate\")\n",
        "graph_builder.add_edge(\"generate\", END)\n",
        "\n",
        "graph = graph_builder.compile()"
      ],
      "metadata": {
        "id": "HZRmyWKMV2Vi"
      },
      "execution_count": 96,
      "outputs": []
    },
    {
      "cell_type": "code",
      "source": [
        "from IPython.display import Image, display\n",
        "\n",
        "display(Image(graph.get_graph().draw_mermaid_png()))"
      ],
      "metadata": {
        "colab": {
          "base_uri": "https://localhost:8080/",
          "height": 449
        },
        "id": "8GEqVjniV5mL",
        "outputId": "21fb8aed-6c73-4bdf-9e9a-4b3f265c9347"
      },
      "execution_count": 97,
      "outputs": [
        {
          "output_type": "display_data",
          "data": {
            "image/png": "[encoded data removed]",
            "text/plain": [
              "<IPython.core.display.Image object>"
            ]
          },
          "metadata": {}
        }
      ]
    },
    {
      "cell_type": "code",
      "source": [
        "input_message = \"Hello\"\n",
        "\n",
        "for step in graph.stream(\n",
        "    {\"messages\": [{\"role\": \"user\", \"content\": input_message}]},\n",
        "    stream_mode=\"values\",\n",
        "):\n",
        "    step[\"messages\"][-1].pretty_print()"
      ],
      "metadata": {
        "colab": {
          "base_uri": "https://localhost:8080/"
        },
        "id": "Nx2uvH7YV7l8",
        "outputId": "3653ebfb-3feb-42d1-e935-b27837e338a5"
      },
      "execution_count": 98,
      "outputs": [
        {
          "output_type": "stream",
          "name": "stdout",
          "text": [
            "================================\u001b[1m Human Message \u001b[0m=================================\n",
            "\n",
            "Hello\n",
            "==================================\u001b[1m Ai Message \u001b[0m==================================\n",
            "\n",
            "Hello! How can I help you today?\n"
          ]
        }
      ]
    },
    {
      "cell_type": "code",
      "source": [
        "input_message = \"What is Task Decomposition?\"\n",
        "\n",
        "for step in graph.stream(\n",
        "    {\"messages\": [{\"role\": \"user\", \"content\": input_message}]},\n",
        "    stream_mode=\"values\",\n",
        "):\n",
        "    step[\"messages\"][-1].pretty_print()"
      ],
      "metadata": {
        "colab": {
          "base_uri": "https://localhost:8080/"
        },
        "id": "ritNWgZWV-JS",
        "outputId": "98f8902d-b29c-48b8-aff5-b33278ad9318"
      },
      "execution_count": 99,
      "outputs": [
        {
          "output_type": "stream",
          "name": "stdout",
          "text": [
            "================================\u001b[1m Human Message \u001b[0m=================================\n",
            "\n",
            "What is Task Decomposition?\n",
            "==================================\u001b[1m Ai Message \u001b[0m==================================\n",
            "Tool Calls:\n",
            "  retrieve (fc6a5ec5-1d0f-4acc-901c-4ec786bc5cd0)\n",
            " Call ID: fc6a5ec5-1d0f-4acc-901c-4ec786bc5cd0\n",
            "  Args:\n",
            "    query: Task Decomposition\n",
            "=================================\u001b[1m Tool Message \u001b[0m=================================\n",
            "Name: retrieve\n",
            "\n",
            "Source: {'source': 'https://lilianweng.github.io/posts/2023-06-23-agent/'}\n",
            "Content: Component One: Planning#\n",
            "A complicated task usually involves many steps. An agent needs to know what they are and plan ahead.\n",
            "Task Decomposition#\n",
            "Chain of thought (CoT; Wei et al. 2022) has become a standard prompting technique for enhancing model performance on complex tasks. The model is instructed to “think step by step” to utilize more test-time computation to decompose hard tasks into smaller and simpler steps. CoT transforms big tasks into multiple manageable tasks and shed lights into an interpretation of the model’s thinking process.\n",
            "Tree of Thoughts (Yao et al. 2023) extends CoT by exploring multiple reasoning possibilities at each step. It first decomposes the problem into multiple thought steps and generates multiple thoughts per step, creating a tree structure. The search process can be BFS (breadth-first search) or DFS (depth-first search) with each state evaluated by a classifier (via a prompt) or majority vote.\n",
            "\n",
            "Source: {'source': 'https://lilianweng.github.io/posts/2023-06-23-agent/'}\n",
            "Content: Component One: Planning#\n",
            "A complicated task usually involves many steps. An agent needs to know what they are and plan ahead.\n",
            "Task Decomposition#\n",
            "Chain of thought (CoT; Wei et al. 2022) has become a standard prompting technique for enhancing model performance on complex tasks. The model is instructed to “think step by step” to utilize more test-time computation to decompose hard tasks into smaller and simpler steps. CoT transforms big tasks into multiple manageable tasks and shed lights into an interpretation of the model’s thinking process.\n",
            "Tree of Thoughts (Yao et al. 2023) extends CoT by exploring multiple reasoning possibilities at each step. It first decomposes the problem into multiple thought steps and generates multiple thoughts per step, creating a tree structure. The search process can be BFS (breadth-first search) or DFS (depth-first search) with each state evaluated by a classifier (via a prompt) or majority vote.\n",
            "==================================\u001b[1m Ai Message \u001b[0m==================================\n",
            "\n",
            "Task decomposition is a method of breaking down a complex task into smaller, simpler steps. Chain of Thought (CoT) prompting is a standard technique that uses task decomposition to enhance model performance on complex tasks. Tree of Thoughts extends CoT by exploring multiple reasoning possibilities at each step, creating a tree structure.\n"
          ]
        }
      ]
    },
    {
      "cell_type": "code",
      "source": [
        "from langgraph.checkpoint.memory import MemorySaver\n",
        "\n",
        "memory = MemorySaver()\n",
        "graph = graph_builder.compile(checkpointer=memory)\n",
        "\n",
        "# Specify an ID for the thread\n",
        "config = {\"configurable\": {\"thread_id\": \"abc123\"}}"
      ],
      "metadata": {
        "id": "dRHglyAPWA-q"
      },
      "execution_count": 100,
      "outputs": []
    },
    {
      "cell_type": "code",
      "source": [
        "input_message = \"What is Task Decomposition?\"\n",
        "\n",
        "for step in graph.stream(\n",
        "    {\"messages\": [{\"role\": \"user\", \"content\": input_message}]},\n",
        "    stream_mode=\"values\",\n",
        "    config=config,\n",
        "):\n",
        "    step[\"messages\"][-1].pretty_print()"
      ],
      "metadata": {
        "colab": {
          "base_uri": "https://localhost:8080/"
        },
        "id": "7ovsn8I2WOXG",
        "outputId": "809fc9d9-785a-4422-a175-7cb0faf5921e"
      },
      "execution_count": 101,
      "outputs": [
        {
          "output_type": "stream",
          "name": "stdout",
          "text": [
            "================================\u001b[1m Human Message \u001b[0m=================================\n",
            "\n",
            "What is Task Decomposition?\n",
            "==================================\u001b[1m Ai Message \u001b[0m==================================\n",
            "Tool Calls:\n",
            "  retrieve (3bb8992b-8a8a-4b67-ae42-b216c483305c)\n",
            " Call ID: 3bb8992b-8a8a-4b67-ae42-b216c483305c\n",
            "  Args:\n",
            "    query: Task Decomposition\n",
            "=================================\u001b[1m Tool Message \u001b[0m=================================\n",
            "Name: retrieve\n",
            "\n",
            "Source: {'source': 'https://lilianweng.github.io/posts/2023-06-23-agent/'}\n",
            "Content: Component One: Planning#\n",
            "A complicated task usually involves many steps. An agent needs to know what they are and plan ahead.\n",
            "Task Decomposition#\n",
            "Chain of thought (CoT; Wei et al. 2022) has become a standard prompting technique for enhancing model performance on complex tasks. The model is instructed to “think step by step” to utilize more test-time computation to decompose hard tasks into smaller and simpler steps. CoT transforms big tasks into multiple manageable tasks and shed lights into an interpretation of the model’s thinking process.\n",
            "Tree of Thoughts (Yao et al. 2023) extends CoT by exploring multiple reasoning possibilities at each step. It first decomposes the problem into multiple thought steps and generates multiple thoughts per step, creating a tree structure. The search process can be BFS (breadth-first search) or DFS (depth-first search) with each state evaluated by a classifier (via a prompt) or majority vote.\n",
            "\n",
            "Source: {'source': 'https://lilianweng.github.io/posts/2023-06-23-agent/'}\n",
            "Content: Component One: Planning#\n",
            "A complicated task usually involves many steps. An agent needs to know what they are and plan ahead.\n",
            "Task Decomposition#\n",
            "Chain of thought (CoT; Wei et al. 2022) has become a standard prompting technique for enhancing model performance on complex tasks. The model is instructed to “think step by step” to utilize more test-time computation to decompose hard tasks into smaller and simpler steps. CoT transforms big tasks into multiple manageable tasks and shed lights into an interpretation of the model’s thinking process.\n",
            "Tree of Thoughts (Yao et al. 2023) extends CoT by exploring multiple reasoning possibilities at each step. It first decomposes the problem into multiple thought steps and generates multiple thoughts per step, creating a tree structure. The search process can be BFS (breadth-first search) or DFS (depth-first search) with each state evaluated by a classifier (via a prompt) or majority vote.\n",
            "==================================\u001b[1m Ai Message \u001b[0m==================================\n",
            "\n",
            "Task decomposition involves breaking down a complex task into smaller, simpler steps. Chain of Thought (CoT) is a prompting technique that instructs the model to \"think step by step\" to decompose tasks. Tree of Thoughts extends CoT by exploring multiple reasoning possibilities at each step, creating a tree structure.\n"
          ]
        }
      ]
    },
    {
      "cell_type": "code",
      "source": [
        "input_message = \"Can you look up some common ways of doing it?\"\n",
        "\n",
        "for step in graph.stream(\n",
        "    {\"messages\": [{\"role\": \"user\", \"content\": input_message}]},\n",
        "    stream_mode=\"values\",\n",
        "    config=config,\n",
        "):\n",
        "    step[\"messages\"][-1].pretty_print()"
      ],
      "metadata": {
        "colab": {
          "base_uri": "https://localhost:8080/"
        },
        "id": "VxvreqqfWRWa",
        "outputId": "51826b32-50d8-4d71-f393-0504205acabf"
      },
      "execution_count": 102,
      "outputs": [
        {
          "output_type": "stream",
          "name": "stdout",
          "text": [
            "================================\u001b[1m Human Message \u001b[0m=================================\n",
            "\n",
            "Can you look up some common ways of doing it?\n",
            "==================================\u001b[1m Ai Message \u001b[0m==================================\n",
            "Tool Calls:\n",
            "  retrieve (4015d22d-3e0d-424a-a07a-7ab11df78ef7)\n",
            " Call ID: 4015d22d-3e0d-424a-a07a-7ab11df78ef7\n",
            "  Args:\n",
            "    query: common methods for task decomposition\n",
            "=================================\u001b[1m Tool Message \u001b[0m=================================\n",
            "Name: retrieve\n",
            "\n",
            "Source: {'source': 'https://lilianweng.github.io/posts/2023-06-23-agent/'}\n",
            "Content: Component One: Planning#\n",
            "A complicated task usually involves many steps. An agent needs to know what they are and plan ahead.\n",
            "Task Decomposition#\n",
            "Chain of thought (CoT; Wei et al. 2022) has become a standard prompting technique for enhancing model performance on complex tasks. The model is instructed to “think step by step” to utilize more test-time computation to decompose hard tasks into smaller and simpler steps. CoT transforms big tasks into multiple manageable tasks and shed lights into an interpretation of the model’s thinking process.\n",
            "Tree of Thoughts (Yao et al. 2023) extends CoT by exploring multiple reasoning possibilities at each step. It first decomposes the problem into multiple thought steps and generates multiple thoughts per step, creating a tree structure. The search process can be BFS (breadth-first search) or DFS (depth-first search) with each state evaluated by a classifier (via a prompt) or majority vote.\n",
            "\n",
            "Source: {'source': 'https://lilianweng.github.io/posts/2023-06-23-agent/'}\n",
            "Content: Component One: Planning#\n",
            "A complicated task usually involves many steps. An agent needs to know what they are and plan ahead.\n",
            "Task Decomposition#\n",
            "Chain of thought (CoT; Wei et al. 2022) has become a standard prompting technique for enhancing model performance on complex tasks. The model is instructed to “think step by step” to utilize more test-time computation to decompose hard tasks into smaller and simpler steps. CoT transforms big tasks into multiple manageable tasks and shed lights into an interpretation of the model’s thinking process.\n",
            "Tree of Thoughts (Yao et al. 2023) extends CoT by exploring multiple reasoning possibilities at each step. It first decomposes the problem into multiple thought steps and generates multiple thoughts per step, creating a tree structure. The search process can be BFS (breadth-first search) or DFS (depth-first search) with each state evaluated by a classifier (via a prompt) or majority vote.\n",
            "==================================\u001b[1m Ai Message \u001b[0m==================================\n",
            "\n",
            "Chain of Thought (CoT) and Tree of Thoughts are common ways of doing task decomposition. CoT transforms big tasks into multiple manageable tasks. Tree of Thoughts extends CoT by exploring multiple reasoning possibilities at each step and creating a tree structure.\n"
          ]
        }
      ]
    },
    {
      "cell_type": "markdown",
      "source": [
        "# Creating Agent"
      ],
      "metadata": {
        "id": "u49GIDWpWb_M"
      }
    },
    {
      "cell_type": "code",
      "source": [
        "from langgraph.prebuilt import create_react_agent\n",
        "\n",
        "agent_executor = create_react_agent(model, [retrieve], checkpointer=memory)"
      ],
      "metadata": {
        "id": "Lg7DSrUeWUmJ"
      },
      "execution_count": 104,
      "outputs": []
    },
    {
      "cell_type": "code",
      "source": [
        "display(Image(agent_executor.get_graph().draw_mermaid_png()))"
      ],
      "metadata": {
        "colab": {
          "base_uri": "https://localhost:8080/",
          "height": 266
        },
        "id": "yIRUMcGeWfTV",
        "outputId": "5ca748b1-c63b-4d27-b85f-320557a656a1"
      },
      "execution_count": 105,
      "outputs": [
        {
          "output_type": "display_data",
          "data": {
            "image/png": "[encoded data removed]",
            "text/plain": [
              "<IPython.core.display.Image object>"
            ]
          },
          "metadata": {}
        }
      ]
    },
    {
      "cell_type": "code",
      "source": [
        "config = {\"configurable\": {\"thread_id\": \"def234\"}}\n",
        "\n",
        "input_message = (\n",
        "    \"What is the standard method for Task Decomposition?\\n\\n\"\n",
        "    \"Once you get the answer, look up common extensions of that method.\"\n",
        ")\n",
        "\n",
        "for event in agent_executor.stream(\n",
        "    {\"messages\": [{\"role\": \"user\", \"content\": input_message}]},\n",
        "    stream_mode=\"values\",\n",
        "    config=config,\n",
        "):\n",
        "    event[\"messages\"][-1].pretty_print()"
      ],
      "metadata": {
        "colab": {
          "base_uri": "https://localhost:8080/"
        },
        "id": "vNyo5oZhWiaJ",
        "outputId": "756013b8-9c4f-47f0-936a-4e299dd61daa"
      },
      "execution_count": 106,
      "outputs": [
        {
          "output_type": "stream",
          "name": "stdout",
          "text": [
            "================================\u001b[1m Human Message \u001b[0m=================================\n",
            "\n",
            "What is the standard method for Task Decomposition?\n",
            "\n",
            "Once you get the answer, look up common extensions of that method.\n",
            "==================================\u001b[1m Ai Message \u001b[0m==================================\n",
            "Tool Calls:\n",
            "  retrieve (74e5e06c-48d4-41cd-8f50-f8f3e4de8a69)\n",
            " Call ID: 74e5e06c-48d4-41cd-8f50-f8f3e4de8a69\n",
            "  Args:\n",
            "    query: standard method for Task Decomposition\n",
            "=================================\u001b[1m Tool Message \u001b[0m=================================\n",
            "Name: retrieve\n",
            "\n",
            "Source: {'source': 'https://lilianweng.github.io/posts/2023-06-23-agent/'}\n",
            "Content: are imported by that file, and so on.\\nFollow a language and framework appropriate best practice file naming convention.\\nMake sure that files contain all imports, types etc. The code should be fully functional. Make sure that code in different files are compatible with each other.\\nBefore you finish, double check that all parts of the architecture is present in the files.\\n\"\n",
            "\n",
            "Source: {'source': 'https://lilianweng.github.io/posts/2023-06-23-agent/'}\n",
            "Content: are imported by that file, and so on.\\nFollow a language and framework appropriate best practice file naming convention.\\nMake sure that files contain all imports, types etc. The code should be fully functional. Make sure that code in different files are compatible with each other.\\nBefore you finish, double check that all parts of the architecture is present in the files.\\n\"\n",
            "==================================\u001b[1m Ai Message \u001b[0m==================================\n",
            "\n",
            "I was not able to retrieve a specific standard method for task decomposition. The information I found describes file naming conventions, which seems unrelated.\n",
            "\n",
            "I will try a broader search to find common extensions of task decomposition methods.\n",
            "Tool Calls:\n",
            "  retrieve (80c1273e-5bbd-4c9c-8c9b-312511dd64c0)\n",
            " Call ID: 80c1273e-5bbd-4c9c-8c9b-312511dd64c0\n",
            "  Args:\n",
            "    query: common extensions of task decomposition methods\n",
            "=================================\u001b[1m Tool Message \u001b[0m=================================\n",
            "Name: retrieve\n",
            "\n",
            "Source: {'source': 'https://lilianweng.github.io/posts/2023-06-23-agent/'}\n",
            "Content: Component One: Planning#\n",
            "A complicated task usually involves many steps. An agent needs to know what they are and plan ahead.\n",
            "Task Decomposition#\n",
            "Chain of thought (CoT; Wei et al. 2022) has become a standard prompting technique for enhancing model performance on complex tasks. The model is instructed to “think step by step” to utilize more test-time computation to decompose hard tasks into smaller and simpler steps. CoT transforms big tasks into multiple manageable tasks and shed lights into an interpretation of the model’s thinking process.\n",
            "Tree of Thoughts (Yao et al. 2023) extends CoT by exploring multiple reasoning possibilities at each step. It first decomposes the problem into multiple thought steps and generates multiple thoughts per step, creating a tree structure. The search process can be BFS (breadth-first search) or DFS (depth-first search) with each state evaluated by a classifier (via a prompt) or majority vote.\n",
            "\n",
            "Source: {'source': 'https://lilianweng.github.io/posts/2023-06-23-agent/'}\n",
            "Content: Component One: Planning#\n",
            "A complicated task usually involves many steps. An agent needs to know what they are and plan ahead.\n",
            "Task Decomposition#\n",
            "Chain of thought (CoT; Wei et al. 2022) has become a standard prompting technique for enhancing model performance on complex tasks. The model is instructed to “think step by step” to utilize more test-time computation to decompose hard tasks into smaller and simpler steps. CoT transforms big tasks into multiple manageable tasks and shed lights into an interpretation of the model’s thinking process.\n",
            "Tree of Thoughts (Yao et al. 2023) extends CoT by exploring multiple reasoning possibilities at each step. It first decomposes the problem into multiple thought steps and generates multiple thoughts per step, creating a tree structure. The search process can be BFS (breadth-first search) or DFS (depth-first search) with each state evaluated by a classifier (via a prompt) or majority vote.\n",
            "==================================\u001b[1m Ai Message \u001b[0m==================================\n",
            "\n",
            "Based on the information I retrieved:\n",
            "\n",
            "The standard method for task decomposition is Chain of Thought (CoT), where the model is instructed to \"think step by step\" to break down complex tasks into smaller, simpler steps.\n",
            "\n",
            "Common extensions of this method include:\n",
            "\n",
            "*   Tree of Thoughts: This extends CoT by exploring multiple reasoning possibilities at each step, creating a tree structure. The search process can be BFS (breadth-first search) or DFS (depth-first search).\n"
          ]
        }
      ]
    },
    {
      "cell_type": "code",
      "source": [],
      "metadata": {
        "id": "BoGYFYhjWkq_"
      },
      "execution_count": null,
      "outputs": []
    }
  ]
}