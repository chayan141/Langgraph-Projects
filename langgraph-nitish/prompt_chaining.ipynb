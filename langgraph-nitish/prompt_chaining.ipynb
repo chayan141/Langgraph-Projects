{
 "cells": [
  {
   "cell_type": "code",
   "execution_count": 18,
   "id": "90de9cf4",
   "metadata": {},
   "outputs": [],
   "source": [
    "from langgraph.graph import StateGraph, START, END\n",
    "from langchain_openai import ChatOpenAI\n",
    "from dotenv import load_dotenv\n",
    "from typing import TypedDict\n",
    "from langchain_core.prompts import ChatPromptTemplate\n",
    "from langchain_core.messages import SystemMessage, HumanMessage"
   ]
  },
  {
   "cell_type": "code",
   "execution_count": 19,
   "id": "987b9c22",
   "metadata": {},
   "outputs": [
    {
     "data": {
      "text/plain": [
       "True"
      ]
     },
     "execution_count": 19,
     "metadata": {},
     "output_type": "execute_result"
    }
   ],
   "source": [
    "load_dotenv()"
   ]
  },
  {
   "cell_type": "code",
   "execution_count": 31,
   "id": "19847019",
   "metadata": {},
   "outputs": [],
   "source": [
    "class BlogState(TypedDict):\n",
    "\n",
    "    title: str\n",
    "    outline: str\n",
    "    content: str\n",
    "    score: str\n",
    "\n",
    "    "
   ]
  },
  {
   "cell_type": "code",
   "execution_count": 32,
   "id": "d86c8c36",
   "metadata": {},
   "outputs": [],
   "source": [
    "model = ChatOpenAI()"
   ]
  },
  {
   "cell_type": "code",
   "execution_count": 34,
   "id": "d6271c6f",
   "metadata": {},
   "outputs": [],
   "source": [
    "def create_outline(state: BlogState) -> BlogState:\n",
    "\n",
    "    title=state['title']\n",
    "\n",
    "    prompt = f'Generate a detailed outline for a blog on the topic -> {title}'\n",
    "\n",
    "    outline = model.invoke(prompt)\n",
    "\n",
    "    return {\n",
    "        'outline':outline\n",
    "    }"
   ]
  },
  {
   "cell_type": "code",
   "execution_count": 35,
   "id": "04f7ba03",
   "metadata": {},
   "outputs": [],
   "source": [
    "def create_blog(state: BlogState)-> BlogState:\n",
    "\n",
    "    title = state['title']\n",
    "    outline = state['outline']\n",
    "\n",
    "    prompt = f'write a detailed blog on the title -{title} using the following outline - {outline}'\n",
    "    \n",
    "    content = model.invoke(prompt)\n",
    "\n",
    "    state['content'] = content\n",
    "\n",
    "    return state"
   ]
  },
  {
   "cell_type": "code",
   "execution_count": 45,
   "id": "8a36fef8",
   "metadata": {},
   "outputs": [],
   "source": [
    "def evaluator(state: BlogState) -> BlogState:\n",
    "    title = state['title']\n",
    "    content = state['content']\n",
    "\n",
    "    # Step 1: Create the prompt template\n",
    "    prompt_template = ChatPromptTemplate.from_messages([\n",
    "        ('system', 'You are an evaluator who evaluates content based on the title.'),\n",
    "        ('user', 'Kindly evaluate the content: \"{content}\" based on the title: \"{title}\" and give only an integer output between 1 and 10.')\n",
    "    ])\n",
    "\n",
    "    # Step 2: Format the template\n",
    "    formatted_prompt = prompt_template.format_messages(content=content, title=title)\n",
    "\n",
    "    # Step 3: Send it to the model\n",
    "    score = model.invoke(formatted_prompt).content\n",
    "\n",
    "    # Step 4: Store the result\n",
    "    state['score'] = score\n",
    "\n",
    "    return state"
   ]
  },
  {
   "cell_type": "code",
   "execution_count": 46,
   "id": "352ba5f7",
   "metadata": {},
   "outputs": [],
   "source": [
    "graph = StateGraph(BlogState)\n",
    "\n",
    "graph.add_node('create_outline',create_outline)\n",
    "graph.add_node('create_blog', create_blog)\n",
    "graph.add_node('evaluator',evaluator)\n",
    "\n",
    "graph.add_edge(START, 'create_outline')\n",
    "graph.add_edge('create_outline','create_blog')\n",
    "graph.add_edge('create_blog','evaluator')\n",
    "graph.add_edge('evaluator',END)\n",
    "\n",
    "\n",
    "workflow = graph.compile()"
   ]
  },
  {
   "cell_type": "code",
   "execution_count": 47,
   "id": "0065a781",
   "metadata": {},
   "outputs": [
    {
     "data": {
      "image/png": "[encoded data removed]",
      "text/plain": [
       "<IPython.core.display.Image object>"
      ]
     },
     "execution_count": 47,
     "metadata": {},
     "output_type": "execute_result"
    }
   ],
   "source": [
    "from IPython.display import Image\n",
    "Image(workflow.get_graph().draw_mermaid_png())"
   ]
  },
  {
   "cell_type": "code",
   "execution_count": 48,
   "id": "261ec6c3",
   "metadata": {},
   "outputs": [],
   "source": [
    "initial_state = {'title':'python scope of variables'}\n",
    "\n",
    "final_state = workflow.invoke(initial_state)\n",
    "\n",
    "# with open('scope.txt','a') as f:\n",
    "#     f.write(final_state['outline'].content)\n",
    "#     f.write(final_state['content'])\n",
    "#     f.write(final_state['score'])"
   ]
  },
  {
   "cell_type": "code",
   "execution_count": 49,
   "id": "07c80e95",
   "metadata": {},
   "outputs": [
    {
     "data": {
      "text/plain": [
       "AIMessage(content=\"# Python Scope of Variables\\n\\n## I. Introduction\\n### A. Definition of Python variables\\nIn Python, variables are used to store data values that can be accessed and manipulated throughout the program. Variables in Python are dynamically typed, meaning that their data type is determined at runtime.\\n\\n### B. Importance of understanding variable scope in Python\\nUnderstanding variable scope is crucial in Python programming as it determines where a variable can be accessed within a program. It helps in avoiding naming conflicts and unintended side effects.\\n\\n### C. Overview of the scope of variables in Python\\nPython has three main types of variable scope: local, global, and nonlocal. Each type of scope determines where a variable can be accessed and modified within a program.\\n\\n## II. Local Variables\\n### A. Definition of local variables\\nLocal variables are defined within a function or a block of code and can only be accessed within that specific function or block.\\n\\n### B. How local variables are defined and used in Python\\nLocal variables are created by assigning a value to a variable within a function or a block of code. They are only accessible within the scope in which they are defined.\\n\\n### C. Examples of local variables in Python code\\n```python\\ndef my_function():\\n    x = 10  # local variable\\n    print(x)\\n\\nmy_function()\\n```\\n\\n## III. Global Variables\\n### A. Definition of global variables\\nGlobal variables are defined outside of any function and can be accessed and modified from any part of the program.\\n\\n### B. How global variables are defined and used in Python\\nGlobal variables are declared using the `global` keyword within a function to indicate that the variable is referring to a global variable.\\n\\n### C. Examples of global variables in Python code\\n```python\\nx = 10  # global variable\\n\\ndef my_function():\\n    global x\\n    x = 20\\n    print(x)\\n\\nmy_function()\\nprint(x)\\n```\\n\\n## IV. Nonlocal Variables\\n### A. Definition of nonlocal variables\\nNonlocal variables are used in nested functions to access and modify variables in the outer enclosing function's scope.\\n\\n### B. How nonlocal variables are defined and used in Python\\nNonlocal variables are declared using the `nonlocal` keyword within a nested function to indicate that the variable is in the outer scope.\\n\\n### C. Examples of nonlocal variables in Python code\\n```python\\ndef outer_function():\\n    x = 10\\n    \\n    def inner_function():\\n        nonlocal x\\n        x = 20\\n        print(x)\\n    \\n    inner_function()\\n\\nouter_function()\\n```\\n\\n## V. Scope Resolution\\n### A. How Python resolves variable scope\\nPython uses a set of rules to determine the scope of a variable, including the LEGB rule (Local, Enclosing, Global, Built-in).\\n\\n### B. Rules for variable scope resolution in Python\\n- Local variables have the highest priority and are searched first.\\n- Enclosing variables refer to the local variables in the enclosing functions.\\n- Global variables are accessed after the enclosing variables.\\n- Built-in variables are the last to be searched.\\n\\n### C. Common issues and errors related to variable scope in Python\\nCommon issues related to variable scope include variable shadowing, name clashes, and modifying global variables unintentionally.\\n\\n## VI. Best Practices\\n### A. Recommendations for properly managing variable scope in Python\\n- Avoid using global variables whenever possible.\\n- Use meaningful variable names to prevent scope-related errors.\\n- Explicitly declare global and nonlocal variables when necessary.\\n\\n### B. Tips for avoiding common pitfalls related to variable scope\\n- Use local variables whenever possible to limit scope.\\n- Encapsulate related variables within functions to prevent conflicts.\\n- Understand the rules of variable scope resolution in Python.\\n\\n### C. Resources for further learning about variable scope in Python\\n- Python documentation on variable scope\\n- Online tutorials and courses on Python variable scope\\n\\n## VII. Conclusion\\n### A. Recap of key points about variable scope in Python\\nUnderstanding variable scope is crucial for writing efficient and error-free Python code.\\nVariable scope determines where a variable can be accessed and modified within a program.\\n\\n### B. Importance of understanding variable scope for writing efficient and error-free Python code\\nProperly managing variable scope in Python is essential for writing clean, maintainable code that is less prone to bugs and errors.\\n\\n### C. Final thoughts on the scope of variables in Python\\nBy following best practices and understanding the rules of variable scope resolution in Python, developers can write code that is easier to maintain and debug.\", additional_kwargs={'refusal': None}, response_metadata={'token_usage': {'completion_tokens': 914, 'prompt_tokens': 568, 'total_tokens': 1482, 'completion_tokens_details': {'accepted_prediction_tokens': 0, 'audio_tokens': 0, 'reasoning_tokens': 0, 'rejected_prediction_tokens': 0}, 'prompt_tokens_details': {'audio_tokens': 0, 'cached_tokens': 0}}, 'model_name': 'gpt-3.5-turbo-0125', 'system_fingerprint': None, 'id': 'chatcmpl-BsUeddLlB4Cu8AXuAMjniFQcWPit9', 'service_tier': 'default', 'finish_reason': 'stop', 'logprobs': None}, id='run--44692d54-3310-4dcb-94f7-cca79503b571-0', usage_metadata={'input_tokens': 568, 'output_tokens': 914, 'total_tokens': 1482, 'input_token_details': {'audio': 0, 'cache_read': 0}, 'output_token_details': {'audio': 0, 'reasoning': 0}})"
      ]
     },
     "execution_count": 49,
     "metadata": {},
     "output_type": "execute_result"
    }
   ],
   "source": [
    "final_state['content']"
   ]
  },
  {
   "cell_type": "code",
   "execution_count": 53,
   "id": "c71e8447",
   "metadata": {},
   "outputs": [
    {
     "name": "stdout",
     "output_type": "stream",
     "text": [
      "[SystemMessage(content='You are a helpful cricket expert', additional_kwargs={}, response_metadata={}), HumanMessage(content='Explain in simple terms, what is Dusra', additional_kwargs={}, response_metadata={})]\n",
      "messages=[SystemMessage(content='You are a helpful cricket expert', additional_kwargs={}, response_metadata={}), HumanMessage(content='Explain in simple terms, what is Dusra', additional_kwargs={}, response_metadata={})]\n"
     ]
    }
   ],
   "source": [
    "from langchain_core.prompts import ChatPromptTemplate\n",
    "\n",
    "chat_template = ChatPromptTemplate([\n",
    "    ('system', 'You are a helpful {domain} expert'),\n",
    "    ('human', 'Explain in simple terms, what is {topic}')\n",
    "])\n",
    "\n",
    "prompt = chat_template.invoke({'domain':'cricket','topic':'Dusra'})\n",
    "prompt2 = chat_template.format_messages(domain = 'cricket', topic = 'Dusra' )\n",
    "\n",
    "print(prompt2)\n",
    "print(prompt)"
   ]
  },
  {
   "cell_type": "code",
   "execution_count": 51,
   "id": "53386814",
   "metadata": {},
   "outputs": [],
   "source": [
    "# model.invoke(prompt).content"
   ]
  },
  {
   "cell_type": "code",
   "execution_count": 54,
   "id": "35641cdf",
   "metadata": {},
   "outputs": [
    {
     "data": {
      "text/plain": [
       "'10'"
      ]
     },
     "execution_count": 54,
     "metadata": {},
     "output_type": "execute_result"
    }
   ],
   "source": [
    "final_state['score']"
   ]
  },
  {
   "cell_type": "code",
   "execution_count": null,
   "id": "d6cc360a",
   "metadata": {},
   "outputs": [],
   "source": []
  }
 ],
 "metadata": {
  "kernelspec": {
   "display_name": "myenv",
   "language": "python",
   "name": "python3"
  },
  "language_info": {
   "codemirror_mode": {
    "name": "ipython",
    "version": 3
   },
   "file_extension": ".py",
   "mimetype": "text/x-python",
   "name": "python",
   "nbconvert_exporter": "python",
   "pygments_lexer": "ipython3",
   "version": "3.13.5"
  }
 },
 "nbformat": 4,
 "nbformat_minor": 5
}
